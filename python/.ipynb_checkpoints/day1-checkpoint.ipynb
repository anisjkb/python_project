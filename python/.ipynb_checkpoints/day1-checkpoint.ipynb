{
 "cells": [
  {
   "cell_type": "code",
   "execution_count": 13,
   "id": "42ea6e16-5f3c-4c60-8ccf-a8c2e619ca45",
   "metadata": {
    "panel-layout": {
     "height": 51.1354,
     "visible": true,
     "width": 100
    }
   },
   "outputs": [
    {
     "data": {
      "text/plain": [
       "'Bismillah'"
      ]
     },
     "execution_count": 13,
     "metadata": {},
     "output_type": "execute_result"
    }
   ],
   "source": [
    "'Bismillah'"
   ]
  },
  {
   "cell_type": "markdown",
   "id": "6d8db448-61fc-4f6f-b8f3-ed28543aa540",
   "metadata": {},
   "source": [
    "'hellow' # shift + enter"
   ]
  },
  {
   "cell_type": "markdown",
   "id": "c275db95-d54f-4320-9791-57573eb2e7c9",
   "metadata": {},
   "source": [
    "# This is a Heading 1\n",
    "## This is a Heading 2\n",
    "### This is a Heading 3"
   ]
  },
  {
   "cell_type": "code",
   "execution_count": 17,
   "id": "40dcd0c1-76d6-4dc4-a2d5-83e774da5f0a",
   "metadata": {},
   "outputs": [
    {
     "name": "stdout",
     "output_type": "stream",
     "text": [
      "Allah please provide rahamat on me and my family\n"
     ]
    }
   ],
   "source": [
    "print('Allah please provide', 'rahamat on me and my family');"
   ]
  },
  {
   "cell_type": "code",
   "execution_count": 19,
   "id": "b3ec0e70-1cb1-44ab-8004-7c6264fbd965",
   "metadata": {},
   "outputs": [
    {
     "name": "stdout",
     "output_type": "stream",
     "text": [
      "2007719399088\n"
     ]
    },
    {
     "data": {
      "text/plain": [
       "56"
      ]
     },
     "execution_count": 19,
     "metadata": {},
     "output_type": "execute_result"
    }
   ],
   "source": [
    "var = 'My name is anis';\n",
    "#print(var);\n",
    "id(var);\n",
    "print(id(var));\n",
    "import sys\n",
    "sys.getsizeof(var)"
   ]
  },
  {
   "cell_type": "code",
   "execution_count": 21,
   "id": "de13893f-cbb3-4318-99f0-4d2763962b21",
   "metadata": {},
   "outputs": [
    {
     "name": "stdin",
     "output_type": "stream",
     "text": [
      "Enter a value 8\n"
     ]
    }
   ],
   "source": [
    "x= input('Enter a value');"
   ]
  },
  {
   "cell_type": "code",
   "execution_count": 25,
   "id": "29c21f1f-2158-49dd-895c-0a2b8cac8631",
   "metadata": {},
   "outputs": [
    {
     "data": {
      "text/plain": [
       "b'I am Illi Tyu'"
      ]
     },
     "execution_count": 25,
     "metadata": {},
     "output_type": "execute_result"
    }
   ],
   "source": [
    "data='I am Illi Tyu'\n",
    "data.encode()"
   ]
  },
  {
   "cell_type": "code",
   "execution_count": 61,
   "id": "987c00f0-4e37-4c37-b631-d75f4892f130",
   "metadata": {},
   "outputs": [
    {
     "name": "stdout",
     "output_type": "stream",
     "text": [
      "[1, 8, 9, 2, [10.5, 23.9], 'test']\n"
     ]
    }
   ],
   "source": [
    "w= [1,8,9,2,[10.5,23.9],'test']\n",
    "print(w)"
   ]
  },
  {
   "cell_type": "code",
   "execution_count": 27,
   "id": "4e363804-7fb2-4812-a50d-c9e01e39f8c2",
   "metadata": {},
   "outputs": [
    {
     "ename": "NameError",
     "evalue": "name 'w' is not defined",
     "output_type": "error",
     "traceback": [
      "\u001b[1;31m---------------------------------------------------------------------------\u001b[0m",
      "\u001b[1;31mNameError\u001b[0m                                 Traceback (most recent call last)",
      "Cell \u001b[1;32mIn[27], line 1\u001b[0m\n\u001b[1;32m----> 1\u001b[0m w\u001b[38;5;241m.\u001b[39mindex(\u001b[38;5;241m2\u001b[39m)\n",
      "\u001b[1;31mNameError\u001b[0m: name 'w' is not defined"
     ]
    }
   ],
   "source": [
    "w.index(2)"
   ]
  },
  {
   "cell_type": "code",
   "execution_count": 4,
   "id": "9144da24-4390-4dd5-a308-d92589c2c7b9",
   "metadata": {
    "scrolled": true
   },
   "outputs": [
    {
     "name": "stdin",
     "output_type": "stream",
     "text": [
      "Enter a complex number 2\n"
     ]
    }
   ],
   "source": [
    "n= complex(input('Enter a complex number'))"
   ]
  },
  {
   "cell_type": "code",
   "execution_count": 6,
   "id": "a6bedf11-07fd-4b52-9d52-3c4713c64737",
   "metadata": {},
   "outputs": [
    {
     "data": {
      "text/plain": [
       "(2+0j)"
      ]
     },
     "execution_count": 6,
     "metadata": {},
     "output_type": "execute_result"
    }
   ],
   "source": [
    "n"
   ]
  },
  {
   "cell_type": "code",
   "execution_count": 8,
   "id": "9e852476-4f53-45df-a694-689d818974ff",
   "metadata": {},
   "outputs": [],
   "source": [
    "#Range ()\n",
    "x=range(10)"
   ]
  },
  {
   "cell_type": "code",
   "execution_count": 10,
   "id": "489dff5d-48c9-4750-9b5d-06d01f46856a",
   "metadata": {},
   "outputs": [
    {
     "data": {
      "text/plain": [
       "range(0, 10)"
      ]
     },
     "execution_count": 10,
     "metadata": {},
     "output_type": "execute_result"
    }
   ],
   "source": [
    "x"
   ]
  },
  {
   "cell_type": "code",
   "execution_count": 12,
   "id": "dfc53a1a-9360-4d8d-8d6f-cb4a9664b568",
   "metadata": {},
   "outputs": [
    {
     "name": "stdout",
     "output_type": "stream",
     "text": [
      "0\n",
      "1\n",
      "2\n",
      "3\n",
      "4\n",
      "5\n",
      "6\n",
      "7\n",
      "8\n",
      "9\n"
     ]
    }
   ],
   "source": [
    "for i in x:\n",
    "    print(i)"
   ]
  },
  {
   "cell_type": "code",
   "execution_count": 29,
   "id": "5dc10879-4dbd-48aa-bbd1-2dd01d3fad0b",
   "metadata": {},
   "outputs": [],
   "source": [
    "#Data frame(pandas)\n",
    "import pandas as pd\n",
    "df = pd.read_csv(r'E:\\Data Science\\ekyc_data.csv')"
   ]
  },
  {
   "cell_type": "code",
   "execution_count": 31,
   "id": "1e58d4ba-c45f-455e-87aa-440df553983a",
   "metadata": {},
   "outputs": [
    {
     "data": {
      "text/html": [
       "<div>\n",
       "<style scoped>\n",
       "    .dataframe tbody tr th:only-of-type {\n",
       "        vertical-align: middle;\n",
       "    }\n",
       "\n",
       "    .dataframe tbody tr th {\n",
       "        vertical-align: top;\n",
       "    }\n",
       "\n",
       "    .dataframe thead th {\n",
       "        text-align: right;\n",
       "    }\n",
       "</style>\n",
       "<table border=\"1\" class=\"dataframe\">\n",
       "  <thead>\n",
       "    <tr style=\"text-align: right;\">\n",
       "      <th></th>\n",
       "      <th>POINT_ID</th>\n",
       "      <th>DISTRICT</th>\n",
       "      <th>ACCOUNT_NUMBER</th>\n",
       "      <th>ACCOUNT_TITLE</th>\n",
       "      <th>GENDER</th>\n",
       "      <th>NATURE_OF_ACCOUNT</th>\n",
       "      <th>ACCOUNT_OPEN_DATE</th>\n",
       "      <th>ACCOUNT_TYPE</th>\n",
       "      <th>TYPE_OF_ONBOARDING</th>\n",
       "      <th>RESIDENTIAL_STATUS</th>\n",
       "      <th>BUSINESS</th>\n",
       "      <th>PROFESSION</th>\n",
       "      <th>IS_PEP</th>\n",
       "      <th>IS_FAMILY_PEP</th>\n",
       "      <th>IS_IP</th>\n",
       "      <th>CUSTOMER_PROVIDED_SOURCE_OF_FUND</th>\n",
       "      <th>Unnamed: 16</th>\n",
       "      <th>Unnamed: 17</th>\n",
       "      <th>Unnamed: 18</th>\n",
       "    </tr>\n",
       "  </thead>\n",
       "  <tbody>\n",
       "    <tr>\n",
       "      <th>0</th>\n",
       "      <td>3124</td>\n",
       "      <td>Brahmanbaria</td>\n",
       "      <td>1083412121994</td>\n",
       "      <td>Nargis Begum</td>\n",
       "      <td>F</td>\n",
       "      <td>S02</td>\n",
       "      <td>27/10/2021</td>\n",
       "      <td>Savings account</td>\n",
       "      <td>Internet/Self check-in/Other non Face to Face</td>\n",
       "      <td>Resident Bangladeshi</td>\n",
       "      <td>NONE</td>\n",
       "      <td>Homemaker</td>\n",
       "      <td>No</td>\n",
       "      <td>No</td>\n",
       "      <td>No</td>\n",
       "      <td>Yes</td>\n",
       "      <td>NaN</td>\n",
       "      <td>NaN</td>\n",
       "      <td>NaN</td>\n",
       "    </tr>\n",
       "    <tr>\n",
       "      <th>1</th>\n",
       "      <td>4853</td>\n",
       "      <td>Bogura</td>\n",
       "      <td>1083410095087</td>\n",
       "      <td>Md. Sohel Rana</td>\n",
       "      <td>M</td>\n",
       "      <td>S02</td>\n",
       "      <td>01/11/2021</td>\n",
       "      <td>Savings account</td>\n",
       "      <td>Walk-in</td>\n",
       "      <td>Resident Bangladeshi</td>\n",
       "      <td>NONE</td>\n",
       "      <td>Farmer/Fisherman/Labourer</td>\n",
       "      <td>No</td>\n",
       "      <td>No</td>\n",
       "      <td>No</td>\n",
       "      <td>No</td>\n",
       "      <td>NaN</td>\n",
       "      <td>NaN</td>\n",
       "      <td>NaN</td>\n",
       "    </tr>\n",
       "    <tr>\n",
       "      <th>2</th>\n",
       "      <td>8104</td>\n",
       "      <td>Sirajganj</td>\n",
       "      <td>1083433053527</td>\n",
       "      <td>Rabeya Begum</td>\n",
       "      <td>F</td>\n",
       "      <td>S02</td>\n",
       "      <td>18/11/2021</td>\n",
       "      <td>Savings account</td>\n",
       "      <td>Direct Sales Agent</td>\n",
       "      <td>Resident Bangladeshi</td>\n",
       "      <td>NONE</td>\n",
       "      <td>Farmer/Fisherman/Labourer</td>\n",
       "      <td>No</td>\n",
       "      <td>No</td>\n",
       "      <td>No</td>\n",
       "      <td>No</td>\n",
       "      <td>NaN</td>\n",
       "      <td>NaN</td>\n",
       "      <td>NaN</td>\n",
       "    </tr>\n",
       "    <tr>\n",
       "      <th>3</th>\n",
       "      <td>32</td>\n",
       "      <td>Noakhali</td>\n",
       "      <td>1083475068727</td>\n",
       "      <td>Yesmin Akter</td>\n",
       "      <td>F</td>\n",
       "      <td>S02</td>\n",
       "      <td>30/12/2021</td>\n",
       "      <td>Savings account</td>\n",
       "      <td>Walk-in</td>\n",
       "      <td>Resident Bangladeshi</td>\n",
       "      <td>NONE</td>\n",
       "      <td>Homemaker</td>\n",
       "      <td>No</td>\n",
       "      <td>No</td>\n",
       "      <td>No</td>\n",
       "      <td>Yes</td>\n",
       "      <td>NaN</td>\n",
       "      <td>NaN</td>\n",
       "      <td>NaN</td>\n",
       "    </tr>\n",
       "    <tr>\n",
       "      <th>4</th>\n",
       "      <td>7301</td>\n",
       "      <td>Rajbari</td>\n",
       "      <td>1083415065203</td>\n",
       "      <td>Md Akram Hossen</td>\n",
       "      <td>M</td>\n",
       "      <td>S02</td>\n",
       "      <td>23/01/2022</td>\n",
       "      <td>Savings account</td>\n",
       "      <td>Direct Sales Agent</td>\n",
       "      <td>Resident Bangladeshi</td>\n",
       "      <td>NONE</td>\n",
       "      <td>Government Service</td>\n",
       "      <td>No</td>\n",
       "      <td>No</td>\n",
       "      <td>No</td>\n",
       "      <td>No</td>\n",
       "      <td>NaN</td>\n",
       "      <td>NaN</td>\n",
       "      <td>NaN</td>\n",
       "    </tr>\n",
       "  </tbody>\n",
       "</table>\n",
       "</div>"
      ],
      "text/plain": [
       "   POINT_ID      DISTRICT  ACCOUNT_NUMBER    ACCOUNT_TITLE GENDER  \\\n",
       "0      3124  Brahmanbaria   1083412121994     Nargis Begum      F   \n",
       "1      4853        Bogura   1083410095087   Md. Sohel Rana      M   \n",
       "2      8104     Sirajganj   1083433053527     Rabeya Begum      F   \n",
       "3        32      Noakhali   1083475068727     Yesmin Akter      F   \n",
       "4      7301       Rajbari   1083415065203  Md Akram Hossen      M   \n",
       "\n",
       "  NATURE_OF_ACCOUNT ACCOUNT_OPEN_DATE     ACCOUNT_TYPE  \\\n",
       "0               S02        27/10/2021  Savings account   \n",
       "1               S02        01/11/2021  Savings account   \n",
       "2               S02        18/11/2021  Savings account   \n",
       "3               S02        30/12/2021  Savings account   \n",
       "4               S02        23/01/2022  Savings account   \n",
       "\n",
       "                              TYPE_OF_ONBOARDING    RESIDENTIAL_STATUS  \\\n",
       "0  Internet/Self check-in/Other non Face to Face  Resident Bangladeshi   \n",
       "1                                        Walk-in  Resident Bangladeshi   \n",
       "2                             Direct Sales Agent  Resident Bangladeshi   \n",
       "3                                        Walk-in  Resident Bangladeshi   \n",
       "4                             Direct Sales Agent  Resident Bangladeshi   \n",
       "\n",
       "  BUSINESS                 PROFESSION IS_PEP IS_FAMILY_PEP IS_IP  \\\n",
       "0     NONE                  Homemaker     No            No    No   \n",
       "1     NONE  Farmer/Fisherman/Labourer     No            No    No   \n",
       "2     NONE  Farmer/Fisherman/Labourer     No            No    No   \n",
       "3     NONE                  Homemaker     No            No    No   \n",
       "4     NONE         Government Service     No            No    No   \n",
       "\n",
       "  CUSTOMER_PROVIDED_SOURCE_OF_FUND  Unnamed: 16  Unnamed: 17  Unnamed: 18  \n",
       "0                              Yes          NaN          NaN          NaN  \n",
       "1                               No          NaN          NaN          NaN  \n",
       "2                               No          NaN          NaN          NaN  \n",
       "3                              Yes          NaN          NaN          NaN  \n",
       "4                               No          NaN          NaN          NaN  "
      ]
     },
     "execution_count": 31,
     "metadata": {},
     "output_type": "execute_result"
    }
   ],
   "source": [
    "df.head()"
   ]
  },
  {
   "cell_type": "code",
   "execution_count": 33,
   "id": "afe6eda6-9df5-4c26-bbec-25d75e6cfeaf",
   "metadata": {},
   "outputs": [
    {
     "name": "stdout",
     "output_type": "stream",
     "text": [
      "<class 'pandas.core.frame.DataFrame'>\n",
      "RangeIndex: 48 entries, 0 to 47\n",
      "Data columns (total 19 columns):\n",
      " #   Column                            Non-Null Count  Dtype  \n",
      "---  ------                            --------------  -----  \n",
      " 0   POINT_ID                          48 non-null     int64  \n",
      " 1   DISTRICT                          48 non-null     object \n",
      " 2   ACCOUNT_NUMBER                    48 non-null     int64  \n",
      " 3   ACCOUNT_TITLE                     48 non-null     object \n",
      " 4   GENDER                            48 non-null     object \n",
      " 5   NATURE_OF_ACCOUNT                 48 non-null     object \n",
      " 6   ACCOUNT_OPEN_DATE                 48 non-null     object \n",
      " 7   ACCOUNT_TYPE                      48 non-null     object \n",
      " 8   TYPE_OF_ONBOARDING                48 non-null     object \n",
      " 9   RESIDENTIAL_STATUS                48 non-null     object \n",
      " 10  BUSINESS                          48 non-null     object \n",
      " 11  PROFESSION                        48 non-null     object \n",
      " 12  IS_PEP                            48 non-null     object \n",
      " 13  IS_FAMILY_PEP                     48 non-null     object \n",
      " 14  IS_IP                             48 non-null     object \n",
      " 15  CUSTOMER_PROVIDED_SOURCE_OF_FUND  48 non-null     object \n",
      " 16  Unnamed: 16                       0 non-null      float64\n",
      " 17  Unnamed: 17                       0 non-null      float64\n",
      " 18  Unnamed: 18                       0 non-null      float64\n",
      "dtypes: float64(3), int64(2), object(14)\n",
      "memory usage: 7.3+ KB\n"
     ]
    }
   ],
   "source": [
    "df.info()"
   ]
  },
  {
   "cell_type": "code",
   "execution_count": 18,
   "id": "a7682c02-1a74-4709-9455-db527c33b0fa",
   "metadata": {},
   "outputs": [
    {
     "name": "stdin",
     "output_type": "stream",
     "text": [
      "Enter the number of rows:  8\n"
     ]
    },
    {
     "name": "stdout",
     "output_type": "stream",
     "text": [
      "#\n",
      "##\n",
      "###\n",
      "####\n",
      "#####\n",
      "######\n",
      "#######\n",
      "########\n"
     ]
    }
   ],
   "source": [
    "# Prompt to input the number of rows\n",
    "rows = int(input(\"Enter the number of rows: \"))\n",
    "\n",
    "# Iterate through the number of rows\n",
    "for i in range(1, rows+1):\n",
    "    # Print hashes based on the current row number\n",
    "    print('#' * i)"
   ]
  },
  {
   "cell_type": "code",
   "execution_count": 8,
   "id": "51988ce2-96a5-4fb1-81e1-fcb187ba1ef9",
   "metadata": {},
   "outputs": [],
   "source": [
    "import zipfile as zp\n",
    "with zp.ZipFile('E:\\\\Download\\\\testZip.zip','r') as file:  # Using double backslashes\n",
    "    file.extractall('E:\\\\Download\\\\testeat')  # Using double backslashes"
   ]
  },
  {
   "cell_type": "code",
   "execution_count": 27,
   "id": "a476286b-ed40-4725-9877-f152aaefecdd",
   "metadata": {},
   "outputs": [
    {
     "name": "stdout",
     "output_type": "stream",
     "text": [
      "   Unnamed: 0       Unnamed: 1      Unnamed: 2                 Unnamed: 3  \\\n",
      "0    POINT_ID         DISTRICT  ACCOUNT_NUMBER              ACCOUNT_TITLE   \n",
      "1        3124     Brahmanbaria   1083412121994               Nargis Begum   \n",
      "2        4853           Bogura   1083410095087             Md. Sohel Rana   \n",
      "3        8104        Sirajganj   1083433053527               Rabeya Begum   \n",
      "4          32         Noakhali   1083475068727               Yesmin Akter   \n",
      "5        7301          Rajbari   1083415065203            Md Akram Hossen   \n",
      "6        4769          Cumilla   1083419155493         Kabita Rani Sarkar   \n",
      "7        3131        Joypurhat   5081138000880       PURNIMA RANI MOHANTA   \n",
      "8        1944            Bhola   5081109006587             SHAHANAZ BEGUM   \n",
      "9        2428        Sirajganj   1083488351212          MST. TANIA KHATUN   \n",
      "10        243          Cumilla   1083419208239            MST. MARUN NESA   \n",
      "11       1901       Nilphamari   1083473058295         MOST. FAYMA AKHTER   \n",
      "12       2151         Noakhali   1083475092704               FATEMA BEGUM   \n",
      "13       7877       Chattogram   1083415095180              HUMAIDA BEGUM   \n",
      "14        225       Shariatpur   1083459090424               Rahima Begum   \n",
      "15       2307         Jamalpur   5081139001345                       ALEA   \n",
      "16       2563       Mymensingh   1083461163929         MST. SOREFYA AKTER   \n",
      "17       3553          Tangail   1083493061033               REZAUL ISLAM   \n",
      "18       1399        Sunamganj   1083490243292  MST. TAMANNA AKTER MAMONI   \n",
      "19       1045         Kurigram   1083449077088           Mst Kakoli Begum   \n",
      "20       5834        Madaripur   1083454015111                 RANU AKTER   \n",
      "21       8125      Kishoreganj   1083448510933                  KAMAL MIA   \n",
      "22         95          Gazipur   1083433098391                    SHARMIN   \n",
      "23       1509        Netrokona   1083472096872                MADOBI RANI   \n",
      "24       7927         Chandpur   1083413202505              FARHANA AKTER   \n",
      "25       3374         Faridpur   1083429065447             Md. Riaz Seikh   \n",
      "26        726          Cumilla   1083419208908              MAHINUR AKTER   \n",
      "27        415            Bhola   1083409074326                 MD. RACHEL   \n",
      "28       2841  Chapainawabganj   1083470259030                 Mst Sakera   \n",
      "29       1316         Chandpur   1083413121891                Lubna Akter   \n",
      "30       2496       Mymensingh   1083461086967   MD. MAHMODUL HASAN HAMIM   \n",
      "31       2949       Mymensingh   1083461106515             Md. Hasmat Ali   \n",
      "32       8042        Narsingdi   1083468023189           MD KOBIR HOSSAIN   \n",
      "33       1316         Chandpur   1083413140311         Md. Mijanur Rahman   \n",
      "34        749          Cumilla   1083419150049              MD. KAYUM MIA   \n",
      "35       2788         Chandpur   1083413140852                 RAJIB GAZI   \n",
      "36        749          Cumilla   1083419150725           Md Safiqul Islam   \n",
      "37       1316         Chandpur   1083413141670                 Laki Akter   \n",
      "38       1316         Chandpur   1083413142003               Ayesha Akter   \n",
      "39       1400       Mymensingh   1083461110869       MOHAMMAD GOLAM FARUK   \n",
      "40        749          Cumilla   1083419153978              Rasheda Begum   \n",
      "41       1316         Chandpur   1083413145689               JANNAT AKTER   \n",
      "42       6770         Chandpur   1083413145750              Mariam Akhter   \n",
      "43       1834     Brahmanbaria   1083412128331              Sheuly Akhter   \n",
      "44       3109           Sylhet   1083491112564             MD NURUL ISLAM   \n",
      "45       1261          Tangail   1083493038554                SALMA BEGUM   \n",
      "46       1834     Brahmanbaria   1083412127943          Mst Taslima Akter   \n",
      "47       1834     Brahmanbaria   1083412128331              Sheuly Akhter   \n",
      "48       4624        Sirajganj   1083488237845           MD. AMIRUL ISLAM   \n",
      "\n",
      "   Unnamed: 4         Unnamed: 5         Unnamed: 6       Unnamed: 7  \\\n",
      "0      GENDER  NATURE_OF_ACCOUNT  ACCOUNT_OPEN_DATE     ACCOUNT_TYPE   \n",
      "1           F                S02         27/10/2021  Savings account   \n",
      "2           M                S02         01/11/2021  Savings account   \n",
      "3           F                S02         18/11/2021  Savings account   \n",
      "4           F                S02         30/12/2021  Savings account   \n",
      "5           M                S02         23/01/2022  Savings account   \n",
      "6           F                S02         25/01/2022  Savings account   \n",
      "7           F                S02         11/12/2024  Current account   \n",
      "8           F                S02         22/12/2024  Current account   \n",
      "9           F                S02         13/12/2024  Current account   \n",
      "10          F                S02         18/12/2024  Current account   \n",
      "11          M                S02         19/12/2024  Current account   \n",
      "12          F                S02         22/12/2024              FDR   \n",
      "13          F                S02         12/12/2024  Current account   \n",
      "14          F                S02         12/12/2024  Current account   \n",
      "15          F                S02         14/12/2024  Current account   \n",
      "16          F                S02         14/12/2024  Current account   \n",
      "17          M                S02         22/12/2024  Current account   \n",
      "18          F                S02         22/12/2024  Current account   \n",
      "19          F                S02         29/12/2024  Current account   \n",
      "20          F                S02         12/12/2024  Current account   \n",
      "21          M                S02         19/12/2024  Current account   \n",
      "22          F                S02         05/01/2025  Current account   \n",
      "23          F                S02         05/01/2025  Current account   \n",
      "24          F                S02         07/01/2025  Current account   \n",
      "25          M                S02         01/01/2025              FDR   \n",
      "26          F                S02         07/01/2025  Current account   \n",
      "27          M                S02         02/01/2025  Current account   \n",
      "28          F                S02         08/01/2025  Current account   \n",
      "29          F                S02         08/04/2021  Savings account   \n",
      "30          M                S02         18/04/2021  Savings account   \n",
      "31          M                S02         21/09/2021  Savings account   \n",
      "32          M                S02         27/09/2021  Savings account   \n",
      "33          M                S02         06/10/2021  Savings account   \n",
      "34          M                S02         19/10/2021  Savings account   \n",
      "35          M                S02         21/10/2021  Savings account   \n",
      "36          M                S02         30/10/2021  Savings account   \n",
      "37          F                S02         18/11/2021  Savings account   \n",
      "38          F                S02         01/12/2021  Savings account   \n",
      "39          M                S02         28/12/2021  Savings account   \n",
      "40          F                S02         03/01/2022  Savings account   \n",
      "41          F                S02         16/01/2022  Savings account   \n",
      "42          F                S02         17/01/2022  Savings account   \n",
      "43          F                S02         14/02/2022  Savings account   \n",
      "44          M                S02         22/02/2022  Savings account   \n",
      "45          F                S02         20/01/2022  Savings account   \n",
      "46          F                S02         08/02/2022  Savings account   \n",
      "47          F                S02         14/02/2022  Savings account   \n",
      "48          M                S02         27/01/2022  Savings account   \n",
      "\n",
      "                                       Unnamed: 8                Unnamed: 9  \\\n",
      "0                              TYPE_OF_ONBOARDING        RESIDENTIAL_STATUS   \n",
      "1   Internet/Self check-in/Other non Face to Face      Resident Bangladeshi   \n",
      "2                                         Walk-in      Resident Bangladeshi   \n",
      "3                              Direct Sales Agent      Resident Bangladeshi   \n",
      "4                                         Walk-in      Resident Bangladeshi   \n",
      "5                              Direct Sales Agent      Resident Bangladeshi   \n",
      "6                              Direct Sales Agent      Resident Bangladeshi   \n",
      "7                     Branch/Relationship Manager      Resident Bangladeshi   \n",
      "8                     Branch/Relationship Manager      Resident Bangladeshi   \n",
      "9                     Branch/Relationship Manager      Resident Bangladeshi   \n",
      "10                    Branch/Relationship Manager      Resident Bangladeshi   \n",
      "11                    Branch/Relationship Manager      Resident Bangladeshi   \n",
      "12                    Branch/Relationship Manager      Resident Bangladeshi   \n",
      "13                    Branch/Relationship Manager      Resident Bangladeshi   \n",
      "14                    Branch/Relationship Manager      Resident Bangladeshi   \n",
      "15                    Branch/Relationship Manager      Resident Bangladeshi   \n",
      "16                    Branch/Relationship Manager      Resident Bangladeshi   \n",
      "17                    Branch/Relationship Manager      Resident Bangladeshi   \n",
      "18                    Branch/Relationship Manager      Resident Bangladeshi   \n",
      "19                    Branch/Relationship Manager      Resident Bangladeshi   \n",
      "20                    Branch/Relationship Manager      Resident Bangladeshi   \n",
      "21                    Branch/Relationship Manager      Resident Bangladeshi   \n",
      "22                    Branch/Relationship Manager      Resident Bangladeshi   \n",
      "23                    Branch/Relationship Manager      Resident Bangladeshi   \n",
      "24                    Branch/Relationship Manager      Resident Bangladeshi   \n",
      "25                    Branch/Relationship Manager      Resident Bangladeshi   \n",
      "26                    Branch/Relationship Manager      Resident Bangladeshi   \n",
      "27                    Branch/Relationship Manager      Resident Bangladeshi   \n",
      "28                    Branch/Relationship Manager      Resident Bangladeshi   \n",
      "29                    Branch/Relationship Manager      Resident Bangladeshi   \n",
      "30                    Branch/Relationship Manager      Resident Bangladeshi   \n",
      "31                    Branch/Relationship Manager      Resident Bangladeshi   \n",
      "32                    Branch/Relationship Manager      Resident Bangladeshi   \n",
      "33                    Branch/Relationship Manager      Resident Bangladeshi   \n",
      "34                    Branch/Relationship Manager      Resident Bangladeshi   \n",
      "35                    Branch/Relationship Manager      Resident Bangladeshi   \n",
      "36                    Branch/Relationship Manager      Resident Bangladeshi   \n",
      "37                    Branch/Relationship Manager      Resident Bangladeshi   \n",
      "38                    Branch/Relationship Manager      Resident Bangladeshi   \n",
      "39                    Branch/Relationship Manager      Resident Bangladeshi   \n",
      "40                    Branch/Relationship Manager      Resident Bangladeshi   \n",
      "41                    Branch/Relationship Manager      Resident Bangladeshi   \n",
      "42                    Branch/Relationship Manager      Resident Bangladeshi   \n",
      "43                    Branch/Relationship Manager      Resident Bangladeshi   \n",
      "44                    Branch/Relationship Manager      Resident Bangladeshi   \n",
      "45                    Branch/Relationship Manager      Resident Bangladeshi   \n",
      "46                    Branch/Relationship Manager      Resident Bangladeshi   \n",
      "47                    Branch/Relationship Manager      Resident Bangladeshi   \n",
      "48                    Branch/Relationship Manager  Non-resident Bangladeshi   \n",
      "\n",
      "       Unnamed: 10                 Unnamed: 11 Unnamed: 12    Unnamed: 13  \\\n",
      "0         BUSINESS                  PROFESSION      IS_PEP  IS_FAMILY_PEP   \n",
      "1             NONE                   Homemaker          No             No   \n",
      "2             NONE   Farmer/Fisherman/Labourer          No             No   \n",
      "3             NONE   Farmer/Fisherman/Labourer          No             No   \n",
      "4             NONE                   Homemaker          No             No   \n",
      "5             NONE          Government Service          No             No   \n",
      "6         Firearms                        NONE          No             No   \n",
      "7             NONE                   Homemaker          No             No   \n",
      "8             NONE                   Homemaker          No             No   \n",
      "9         Firearms                        NONE          No             No   \n",
      "10            NONE                   Homemaker          No             No   \n",
      "11            NONE                   Homemaker          No             No   \n",
      "12          Others                        NONE          No             No   \n",
      "13            NONE                   Homemaker          No             No   \n",
      "14            NONE                   Homemaker          No             No   \n",
      "15            NONE                      Others          No             No   \n",
      "16            NONE                   Homemaker          No             No   \n",
      "17  Business Agent                        NONE          No             No   \n",
      "18            NONE                     Student          No             No   \n",
      "19            NONE                   Homemaker          No             No   \n",
      "20          Others                        NONE          No             No   \n",
      "21            NONE   Farmer/Fisherman/Labourer          No             No   \n",
      "22            NONE                   Homemaker          No             No   \n",
      "23            NONE                   Homemaker          No             No   \n",
      "24            NONE                   Homemaker          No             No   \n",
      "25            NONE   Farmer/Fisherman/Labourer          No             No   \n",
      "26            NONE                   Homemaker          No             No   \n",
      "27            NONE     Private Sector Employee          No             No   \n",
      "28            NONE                   Homemaker          No             No   \n",
      "29            NONE                   Homemaker         Yes            Yes   \n",
      "30  Business Agent                        NONE         Yes            Yes   \n",
      "31            NONE   Farmer/Fisherman/Labourer         Yes            Yes   \n",
      "32  Business Agent                        NONE          No             No   \n",
      "33            NONE                     Student         Yes            Yes   \n",
      "34            NONE  Self-employed Professional         Yes            Yes   \n",
      "35            NONE     Private Sector Employee         Yes            Yes   \n",
      "36            NONE  Self-employed Professional         Yes            Yes   \n",
      "37            NONE                   Homemaker         Yes            Yes   \n",
      "38            NONE                   Homemaker         Yes            Yes   \n",
      "39  Business Agent                        NONE         Yes            Yes   \n",
      "40            NONE                   Homemaker         Yes            Yes   \n",
      "41            NONE                   Homemaker         Yes            Yes   \n",
      "42            NONE                   Homemaker          No             No   \n",
      "43            NONE                   Homemaker         Yes            Yes   \n",
      "44  Business Agent                        NONE          No             No   \n",
      "45            NONE                      Others         Yes            Yes   \n",
      "46            NONE                   Homemaker         Yes            Yes   \n",
      "47            NONE                   Homemaker         Yes            Yes   \n",
      "48  Business Agent                        NONE          No             No   \n",
      "\n",
      "                     Unnamed: 14                       Unnamed: 15  \n",
      "0                          IS_IP  CUSTOMER_PROVIDED_SOURCE_OF_FUND  \n",
      "1                             No                               Yes  \n",
      "2                             No                                No  \n",
      "3                             No                                No  \n",
      "4                             No                               Yes  \n",
      "5                             No                                No  \n",
      "6                             No                               Yes  \n",
      "7                             No                                No  \n",
      "8                             No                                No  \n",
      "9                             No                               Yes  \n",
      "10                            No                                No  \n",
      "11                            No                                No  \n",
      "12                            No                               Yes  \n",
      "13                            No                               Yes  \n",
      "14                            No                                No  \n",
      "15                            No                                No  \n",
      "16                            No                               Yes  \n",
      "17                            No                               Yes  \n",
      "18                            No                                No  \n",
      "19                            No                               Yes  \n",
      "20                            No                               Yes  \n",
      "21                            No                                No  \n",
      "22                            No                                No  \n",
      "23                            No                                No  \n",
      "24                            No                               Yes  \n",
      "25                            No                               Yes  \n",
      "26                            No                                No  \n",
      "27                            No                                No  \n",
      "28                            No                               Yes  \n",
      "29  Yes (based on assessed risk)                                No  \n",
      "30  Yes (based on assessed risk)                               Yes  \n",
      "31  Yes (based on assessed risk)                               Yes  \n",
      "32  Yes (based on assessed risk)                               Yes  \n",
      "33  Yes (based on assessed risk)                                No  \n",
      "34  Yes (based on assessed risk)                               Yes  \n",
      "35  Yes (based on assessed risk)                               Yes  \n",
      "36  Yes (based on assessed risk)                               Yes  \n",
      "37  Yes (based on assessed risk)                                No  \n",
      "38  Yes (based on assessed risk)                                No  \n",
      "39  Yes (based on assessed risk)                               Yes  \n",
      "40  Yes (based on assessed risk)                               Yes  \n",
      "41  Yes (based on assessed risk)                                No  \n",
      "42  Yes (based on assessed risk)                               Yes  \n",
      "43  Yes (based on assessed risk)                                No  \n",
      "44  Yes (based on assessed risk)                               Yes  \n",
      "45                            No                                No  \n",
      "46                            No                                No  \n",
      "47  Yes (based on assessed risk)                                No  \n",
      "48                            No                                No  \n"
     ]
    }
   ],
   "source": [
    "import pandas as pd\n",
    "\n",
    "search_word = 'ekyc rectfication'\n",
    "replace_word = 'rectfication'\n",
    "\n",
    "file_path = r'E:\\Download\\ekyc_rectfication.xlsx'\n",
    "df = pd.read_excel(file_path)  # Read the Excel file\n",
    "\n",
    "# If you need to perform some operation on the data\n",
    "# For example, replace the search_word with replace_word in a specific column\n",
    "# df['column_name'] = df['column_name'].str.replace(search_word, replace_word)\n",
    "\n",
    "print(df)  # Print the DataFrame to see the content\n",
    "\n",
    "# If you made modifications, save the DataFrame back to an Excel file\n",
    "# df.to_excel(r'E:\\Download\\modified_ekyc_rectfication.xlsx', index=False)"
   ]
  },
  {
   "cell_type": "code",
   "execution_count": 24,
   "id": "911feb54-5317-43bc-bab5-d7c5941b6159",
   "metadata": {},
   "outputs": [
    {
     "name": "stdout",
     "output_type": "stream",
     "text": [
      "@\n"
     ]
    }
   ],
   "source": [
    "symbole= chr(64)\n",
    "print (symbole)"
   ]
  },
  {
   "cell_type": "code",
   "execution_count": 26,
   "id": "1d786d66-0b82-460d-a855-8ecb6484217d",
   "metadata": {},
   "outputs": [
    {
     "name": "stdout",
     "output_type": "stream",
     "text": [
      "64\n"
     ]
    }
   ],
   "source": [
    "return_symbole=ord('@')\n",
    "print(return_symbole)"
   ]
  },
  {
   "cell_type": "code",
   "execution_count": 10,
   "id": "2309d16a-48fd-4b0c-b658-a6a9edab6c7e",
   "metadata": {},
   "outputs": [
    {
     "name": "stdout",
     "output_type": "stream",
     "text": [
      "The sum of a and b is: 12\n"
     ]
    }
   ],
   "source": [
    "# Write a function in python that wont take any parameters explicitly. Instead, it defines local variables a and b \n",
    "# within the function and returns their sum. The values of a and b are fixed within the function.\n",
    "\n",
    "def sum_ab():\n",
    "    a = 9  # You can set any fixed value for a\n",
    "    b = 3  # You can set any fixed value for b\n",
    "    return a + b\n",
    "# Example usage:\n",
    "result = sum_ab()\n",
    "print(\"The sum of a and b is:\", result)"
   ]
  },
  {
   "cell_type": "code",
   "execution_count": 2,
   "id": "f14a820e-8775-4ca0-8287-e079324bb8c9",
   "metadata": {},
   "outputs": [
    {
     "name": "stdout",
     "output_type": "stream",
     "text": [
      "Download path: E:\\Data Science\\python\n"
     ]
    }
   ],
   "source": [
    "import os\n",
    "print(\"Download path:\", os.getcwd())  # Prints the current working directory"
   ]
  },
  {
   "cell_type": "code",
   "execution_count": 2,
   "id": "ef2626f6-52e2-4c40-9a36-016bca0e5aaa",
   "metadata": {},
   "outputs": [
    {
     "name": "stdout",
     "output_type": "stream",
     "text": [
      "Collecting pytubefixNote: you may need to restart the kernel to use updated packages.\n",
      "\n",
      "  Downloading pytubefix-8.12.1-py3-none-any.whl.metadata (5.3 kB)\n",
      "Downloading pytubefix-8.12.1-py3-none-any.whl (730 kB)\n",
      "   ---------------------------------------- 0.0/730.7 kB ? eta -:--:--\n",
      "   -------------- ------------------------- 262.1/730.7 kB ? eta -:--:--\n",
      "   ---------------------------------------- 730.7/730.7 kB 5.0 MB/s eta 0:00:00\n",
      "Installing collected packages: pytubefix\n",
      "Successfully installed pytubefix-8.12.1\n"
     ]
    }
   ],
   "source": [
    "pip install pytubefix"
   ]
  },
  {
   "cell_type": "code",
   "execution_count": 1,
   "id": "054511f2-86c4-428d-a7f7-61fcf07e9c7c",
   "metadata": {},
   "outputs": [
    {
     "name": "stdout",
     "output_type": "stream",
     "text": [
      "How to Learn Data Science & Artificial Intelligence | The Ultimate Guide on ML & AI (Bangla)\n",
      " ↳ |██████████████████████████████████████████████████████████████████| 100.0%\r"
     ]
    },
    {
     "data": {
      "text/plain": [
       "'E:\\\\Data Science\\\\python\\\\How to Learn Data Science & Artificial Intelligence  The Ultimate Guide on ML & AI (Bangla).mp4'"
      ]
     },
     "execution_count": 1,
     "metadata": {},
     "output_type": "execute_result"
    }
   ],
   "source": [
    "from pytubefix import YouTube\n",
    "from pytubefix.cli import on_progress\n",
    " \n",
    "url = \"https://youtu.be/N8TuSqD7EcA\"\n",
    "\n",
    "yt = YouTube(url, on_progress_callback = on_progress)\n",
    "print(yt.title)\n",
    " \n",
    "ys = yt.streams.get_highest_resolution()\n",
    "ys.download()"
   ]
  },
  {
   "cell_type": "code",
   "execution_count": 3,
   "id": "aa3d9660-1fe4-4687-8b7c-06c485e4fc7d",
   "metadata": {},
   "outputs": [],
   "source": [
    "# !pip install pypdf"
   ]
  },
  {
   "cell_type": "code",
   "execution_count": 3,
   "id": "037f79c0-6662-4889-82c3-9883b24932bc",
   "metadata": {},
   "outputs": [
    {
     "data": {
      "text/plain": [
       "[0, 4, 16, 36, 64]"
      ]
     },
     "execution_count": 3,
     "metadata": {},
     "output_type": "execute_result"
    }
   ],
   "source": [
    "# List comprehension\n",
    "even_squares = [x ** 2 for x in range(10) if x % 2 == 0]\n",
    "even_squares"
   ]
  },
  {
   "cell_type": "code",
   "execution_count": 7,
   "id": "c4b77a4c-296b-41d7-8644-f1deea0724af",
   "metadata": {},
   "outputs": [
    {
     "name": "stdout",
     "output_type": "stream",
     "text": [
      "0\n",
      "4\n",
      "16\n",
      "36\n",
      "64\n"
     ]
    }
   ],
   "source": [
    "# Generator expression\n",
    "even_squares_gen = (x ** 2 for x in range(10) if x % 2 == 0)\n",
    "\n",
    "for square in even_squares_gen:\n",
    "    print(square)"
   ]
  },
  {
   "cell_type": "code",
   "execution_count": 13,
   "id": "4dbb66a3-2ff5-4722-a86e-7af1312614cf",
   "metadata": {},
   "outputs": [
    {
     "name": "stdout",
     "output_type": "stream",
     "text": [
      "List comprehension = 120\n",
      "Generator = 200\n"
     ]
    }
   ],
   "source": [
    "import sys\n",
    "print('List comprehension =',sys.getsizeof(even_squares))\n",
    "print('Generator =',sys.getsizeof(even_squares_gen))"
   ]
  },
  {
   "cell_type": "code",
   "execution_count": 11,
   "id": "529ba1a5-8dcf-49fa-95f8-0a8e1074f8c0",
   "metadata": {},
   "outputs": [
    {
     "data": {
      "text/plain": [
       "(0, 4, 16, 36, 64)"
      ]
     },
     "execution_count": 11,
     "metadata": {},
     "output_type": "execute_result"
    }
   ],
   "source": [
    "even_squares_tuple = tuple(x ** 2 for x in range(10) if x % 2 == 0)\n",
    "even_squares_tuple"
   ]
  },
  {
   "cell_type": "code",
   "execution_count": null,
   "id": "61dd93aa-f246-4bde-b917-96bebe7b2bf2",
   "metadata": {},
   "outputs": [],
   "source": []
  }
 ],
 "metadata": {
  "kernelspec": {
   "display_name": "Python [conda env:base] *",
   "language": "python",
   "name": "conda-base-py"
  },
  "language_info": {
   "codemirror_mode": {
    "name": "ipython",
    "version": 3
   },
   "file_extension": ".py",
   "mimetype": "text/x-python",
   "name": "python",
   "nbconvert_exporter": "python",
   "pygments_lexer": "ipython3",
   "version": "3.12.7"
  },
  "panel-cell-order": [
   "42ea6e16-5f3c-4c60-8ccf-a8c2e619ca45",
   "0abcd55e-78b4-4958-9219-2f93c9e98688"
  ]
 },
 "nbformat": 4,
 "nbformat_minor": 5
}
